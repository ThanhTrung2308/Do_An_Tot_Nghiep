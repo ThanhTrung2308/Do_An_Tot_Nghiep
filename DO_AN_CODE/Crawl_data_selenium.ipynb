{
 "cells": [
  {
   "cell_type": "code",
   "execution_count": 5,
   "metadata": {},
   "outputs": [],
   "source": [
    "from selenium import webdriver\n",
    "from time import sleep\n",
    "from selenium.common.exceptions import NoSuchElementException, ElementNotInteractableException\n",
    "from selenium.webdriver.common.by import By\n",
    "from selenium.webdriver.chrome.service import Service as ChromeService\n",
    "import pandas as pd\n",
    "import numpy as np\n",
    "import random"
   ]
  },
  {
   "cell_type": "code",
   "execution_count": 6,
   "metadata": {},
   "outputs": [],
   "source": [
    "chrome_service = ChromeService(executable_path='chromedriver.exe')  \n",
    "driver = webdriver.Chrome(service=chrome_service)"
   ]
  },
  {
   "cell_type": "code",
   "execution_count": 22,
   "metadata": {},
   "outputs": [],
   "source": [
    "#df = pd.DataFrame(columns=['Player_Link'])\n",
    "#for offset in range(0,20000, 60):\n",
    "    #url = f'https://sofifa.com/?r=220069&set=true&hl=en-US&offset={offset}'\n",
    "url = f'https://sofifa.com/?r=220069&set=true&hl=en-US'\n",
    "driver.get(url)\n",
    "sleep(random.randint(5, 10))\n",
    "    # Scroll trang xuống để tải thêm dữ liệu bằng JavaScript\n",
    "    # driver.execute_script(\"window.scrollTo(0, document.body.scrollHeight);\")\n",
    "    # sleep(2)  \n",
    "    # Lấy link của cầu thủ\n",
    "elems = driver.find_elements(By.CSS_SELECTOR, 'td.col-name a[href^=\"/player/\"]')\n",
    "links = [elem.get_attribute('href') for elem in elems]\n",
    "    #df = pd.concat([df, pd.DataFrame(links, columns=['Player_Link'])])\n"
   ]
  },
  {
   "cell_type": "code",
   "execution_count": 14,
   "metadata": {},
   "outputs": [],
   "source": [
    "#df.to_csv('D:/Jupyter/DATA/player_links.csv', index=False)"
   ]
  },
  {
   "cell_type": "code",
   "execution_count": 25,
   "metadata": {},
   "outputs": [
    {
     "name": "stdout",
     "output_type": "stream",
     "text": [
      "None\n"
     ]
    }
   ],
   "source": [
    "driver.get(links[0])"
   ]
  },
  {
   "cell_type": "code",
   "execution_count": null,
   "metadata": {},
   "outputs": [],
   "source": []
  }
 ],
 "metadata": {
  "kernelspec": {
   "display_name": "Python 3",
   "language": "python",
   "name": "python3"
  },
  "language_info": {
   "codemirror_mode": {
    "name": "ipython",
    "version": 3
   },
   "file_extension": ".py",
   "mimetype": "text/x-python",
   "name": "python",
   "nbconvert_exporter": "python",
   "pygments_lexer": "ipython3",
   "version": "3.11.5"
  }
 },
 "nbformat": 4,
 "nbformat_minor": 2
}
